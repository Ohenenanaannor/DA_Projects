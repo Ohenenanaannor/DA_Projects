{
 "cells": [
  {
   "cell_type": "markdown",
   "id": "425f90be",
   "metadata": {},
   "source": [
    "# Exploratory Data Analysis (EDA)\n",
    "\n",
    "This project will guide you through analysing sales data. This project seeks to identify and clean anomalies, create visualisations, and reflect on your findings. "
   ]
  },
  {
   "cell_type": "markdown",
   "id": "e52bdf43",
   "metadata": {},
   "source": [
    "### Dataset Context\n",
    "The dataset contains sales data for an online store, including:\n",
    "- **order_date**: Date of the transaction.\n",
    "- **product_category**: Category of the product sold.\n",
    "- **sales_amount**: Revenue generated from the sale (contains missing values and outliers).\n",
    "- **quantity**: Number of items sold.\n",
    "- **customer_region**: Region of the customer."
   ]
  },
  {
   "cell_type": "markdown",
   "id": "1a22395b",
   "metadata": {},
   "source": [
    "### Load and Inspect the Data\n",
    "1. Load the dataset into a Pandas DataFrame.\n",
    "2. Inspect the first few rows of the dataset.\n",
    "3. Generate summary statistics."
   ]
  },
  {
   "cell_type": "code",
   "execution_count": null,
   "id": "77a0cb29",
   "metadata": {},
   "outputs": [
    {
     "name": "stdout",
     "output_type": "stream",
     "text": [
      "First Few Rows of the Dataset:\n",
      "   order_date product_category  sales_amount  quantity customer_region\n",
      "0  2023-01-01      Electronics        1000.0         1           North\n",
      "1  2023-01-02         Clothing           5.0         2           South\n",
      "2  2023-01-03            Books           NaN         1            East\n",
      "3  2023-01-04             Home         250.0         3            West\n",
      "4  2023-01-05             Toys         300.0         2           North\n",
      "\n",
      "Summary Statistics:\n",
      "       sales_amount   quantity\n",
      "count     20.000000  21.000000\n",
      "mean     277.750000   1.761905\n",
      "std      260.022646   0.768424\n",
      "min        5.000000   1.000000\n",
      "25%      150.000000   1.000000\n",
      "50%      225.000000   2.000000\n",
      "75%      300.000000   2.000000\n",
      "max     1000.000000   3.000000\n"
     ]
    }
   ],
   "source": [
    "### Task 1: Load and Inspect the Data\n",
    "\n",
    "# Import necessary libraries\n",
    "import pandas as pd\n",
    "\n",
    "# Load the dataset\n",
    "df = pd.read_csv('../data/sales_data.csv') \n",
    "\n",
    "# Inspect the first few rows\n",
    "print(\"First Few Rows of the Dataset:\")\n",
    "print(df.head())  \n",
    "\n",
    "# Generate summary statistics\n",
    "print(\"\\nSummary Statistics:\")\n",
    "print(df.describe())"
   ]
  },
  {
   "cell_type": "markdown",
   "id": "16620fb8",
   "metadata": {},
   "source": []
  },
  {
   "cell_type": "markdown",
   "id": "82234ec9",
   "metadata": {},
   "source": [
    "###  Identify Anomalies\n",
    "\n",
    "1. Check for missing values.\n",
    "2. Check for duplicate rows."
   ]
  },
  {
   "cell_type": "code",
   "execution_count": null,
   "id": "1b6c71bb",
   "metadata": {},
   "outputs": [
    {
     "name": "stdout",
     "output_type": "stream",
     "text": [
      "Missing Values:\n",
      "order_date          0\n",
      "product_category    0\n",
      "sales_amount        1\n",
      "quantity            0\n",
      "customer_region     0\n",
      "dtype: int64\n",
      "Duplicate Rows: 1\n"
     ]
    }
   ],
   "source": [
    "### Task 2: Identify Anomalies\n",
    "\n",
    "# Check for missing values\n",
    "print(\"Missing Values:\")\n",
    "print(df.isnull().sum())  \n",
    "\n",
    "# Check for duplicate rows\n",
    "print(\"Duplicate Rows:\", df.duplicated().sum()) \n"
   ]
  },
  {
   "cell_type": "markdown",
   "id": "d2180117",
   "metadata": {},
   "source": [
    "### Data Cleaning"
   ]
  },
  {
   "cell_type": "code",
   "execution_count": null,
   "id": "a81fadb4",
   "metadata": {},
   "outputs": [
    {
     "name": "stdout",
     "output_type": "stream",
     "text": [
      "\n",
      "Cleaned Dataset:\n",
      "    order_date product_category  sales_amount  quantity customer_region\n",
      "1   2023-01-02         Clothing           5.0         2           South\n",
      "2   2023-01-03            Books         225.0         1            East\n",
      "3   2023-01-04             Home         250.0         3            West\n",
      "4   2023-01-05             Toys         300.0         2           North\n",
      "5   2023-01-06      Electronics         100.0         1           North\n",
      "6   2023-01-07         Clothing         200.0         2           South\n",
      "7   2023-01-08            Books         150.0         1            East\n",
      "8   2023-01-09             Home         250.0         3            West\n",
      "9   2023-01-10             Toys         300.0         2           North\n",
      "10  2023-01-11      Electronics         100.0         1           North\n",
      "11  2023-01-12         Clothing         200.0         2           South\n",
      "12  2023-01-13            Books         150.0         1            East\n",
      "13  2023-01-14             Home         250.0         3            West\n",
      "14  2023-01-15             Toys         300.0         2           North\n",
      "15  2023-01-16      Electronics         100.0         1           North\n",
      "16  2023-01-17         Clothing         200.0         2           South\n",
      "17  2023-01-18            Books         150.0         1            East\n",
      "18  2023-01-19             Home         250.0         3            West\n",
      "19  2023-01-20             Toys         300.0         2           North\n"
     ]
    }
   ],
   "source": [
    "### Task 3: Data Cleaning\n",
    "\n",
    "# Fill missing values in sales_amount with the median\n",
    "df['sales_amount'] = df['sales_amount'].fillna(df['sales_amount'].median()) \n",
    "\n",
    "# Remove duplicate rows\n",
    "df.drop_duplicates()  \n",
    "\n",
    "# Handle outliers in sales_amount using IQR\n",
    "Q1 = df['sales_amount'].quantile(0.25)\n",
    "Q3 = df['sales_amount'].quantile(0.75)\n",
    "IQR = Q3 - Q1\n",
    "lower_bound = Q1 - 1.5 * IQR  \n",
    "upper_bound = Q3 + 1.5 * IQR  \n",
    "\n",
    "# TODO: Filter the dataset to remove outliers\n",
    "df = df[(df['sales_amount'] >= lower_bound) & (df['sales_amount'] <= upper_bound)]\n",
    "\n",
    "# Verify the cleaned data\n",
    "print(\"\\nCleaned Dataset:\")\n",
    "print(df)"
   ]
  },
  {
   "cell_type": "markdown",
   "id": "5d75b38a",
   "metadata": {},
   "source": [
    "### Task 4: Visual Exploration\n",
    "1. Create a histogram to show the distribution of sales amounts across all transactions.\n",
    "2. Create a bar plot to show the average sales amount by quantity."
   ]
  },
  {
   "cell_type": "code",
   "execution_count": null,
   "id": "95cbc3ae",
   "metadata": {},
   "outputs": [
    {
     "data": {
      "image/png": "[encoded data removed]",
      "text/plain": [
       "<Figure size 800x600 with 1 Axes>"
      ]
     },
     "metadata": {},
     "output_type": "display_data"
    }
   ],
   "source": [
    "### Task 4: Visual Exploration\n",
    "\n",
    "# Create a histogram for sales_amount\n",
    "import matplotlib.pyplot as plt\n",
    "import seaborn as sns\n",
    "\n",
    "plt.figure(figsize=(8, 6))\n",
    "sns.histplot(df['sales_amount'], bins=5, kde=True)  \n",
    "plt.title('Distribution of Sales Amount')\n",
    "plt.xlabel('Sales_amount') \n",
    "plt.ylabel('Frequency')\n",
    "plt.show()"
   ]
  },
  {
   "cell_type": "code",
   "execution_count": null,
   "id": "ea0dddeb",
   "metadata": {},
   "outputs": [
    {
     "data": {
      "image/png": "[encoded data removed]",
      "text/plain": [
       "<Figure size 800x600 with 1 Axes>"
      ]
     },
     "metadata": {},
     "output_type": "display_data"
    }
   ],
   "source": [
    "# Create a Bar plot for average sales_amount by quantity\n",
    "average_sales = df.groupby('quantity')['sales_amount'].mean()  \n",
    "\n",
    "plt.figure(figsize=(8, 6))\n",
    "average_sales.plot(kind='bar', color='skyblue')\n",
    "plt.title('Average Sales Amount by Quantity')\n",
    "plt.xlabel('Quantity') \n",
    "plt.ylabel('Average Sales Amount')\n",
    "plt.xticks(rotation=0)\n",
    "plt.show()\n"
   ]
  },
  {
   "cell_type": "markdown",
   "id": "1fde93e2",
   "metadata": {},
   "source": [
    "### Feature Engineering\n",
    "1. Create a new column called `sales_per_unit` to represent the average sales amount per unit sold.\n",
    "This column can help us interpret the data by providing insights into pricing strategies and product value."
   ]
  },
  {
   "cell_type": "code",
   "execution_count": null,
   "id": "bcc7578b",
   "metadata": {},
   "outputs": [
    {
     "name": "stdout",
     "output_type": "stream",
     "text": [
      "Average Sales Per Unit by Product Category:\n",
      "product_category\n",
      "Books          168.750000\n",
      "Clothing        75.625000\n",
      "Electronics    100.000000\n",
      "Home            83.333333\n",
      "Toys           150.000000\n",
      "Name: sales_per_unit, dtype: float64\n"
     ]
    }
   ],
   "source": [
    "### Task 5: Feature Engineering\n",
    "\n",
    "# Create a new column 'sales_per_unit' by dividing sales_amount by quantity\n",
    "# This column represents the average sales amount per unit sold.\n",
    "df['sales_per_unit'] = df['sales_amount'] / df['quantity'] \n",
    "\n",
    "# Aggregate the new column 'sales_per_unit_' by product_category\n",
    "category_aggregation = df.groupby('product_category')['sales_per_unit'].mean() \n",
    "\n",
    "#  Display the results\n",
    "print(\"Average Sales Per Unit by Product Category:\")\n",
    "print(category_aggregation)\n"
   ]
  },
  {
   "cell_type": "markdown",
   "id": "dcba1d4f",
   "metadata": {},
   "source": [
    "###  Actionable Insights\n",
    "Provide your responses below."
   ]
  },
  {
   "cell_type": "markdown",
   "id": "ff8566f9",
   "metadata": {},
   "source": [
    "Insights from the sales data for the online company:\n",
    "1. From the histogram, whcich is skewed to the right shows that most of the sales fall between the 250-300\n",
    "and low frequency for sales between 0-50 indicating that high-priced products are in demand.\n",
    "2.From the bar chart, we can also see the highest average sales for the highest quantity, indicating , higher \n",
    "quanity sold leads to high average sales.\n",
    "\n",
    "Recommendations:\n",
    "1. Promote bulk purchases for high priced products.\n",
    "2. Target regions with high sales\n",
    "3. Investigate the low outlier of 5 sales amount to identify the problem."
   ]
  },
  {
   "cell_type": "markdown",
   "id": "8383dd0f",
   "metadata": {},
   "source": [
    "#### Identifying Key Price Ranges\n",
    "- Look at the histogram for `sales_amount` in `Task 4`. Which range of sales amounts has the highest frequency?\n",
    "- How might the business use this information to shape its promotions or pricing strategy?\n"
   ]
  },
  {
   "cell_type": "markdown",
   "id": "e0bbace7",
   "metadata": {},
   "source": [
    "1.250 to 300 sales amount has the highest frequency.\n",
    "2. Promote the sales of products in this Category ( discounts will greatly increase the sales)"
   ]
  },
  {
   "cell_type": "markdown",
   "id": "3fa4edb6",
   "metadata": {},
   "source": [
    "####  Maximising Profitability Through Quantity\n",
    "- Based on the bar plot in `Task 4` showing average sales amounts by quantity, which quantity level has the highest average sales amount?\n",
    "- How could the business encourage customers to buy more items per transaction? "
   ]
  },
  {
   "cell_type": "markdown",
   "id": "11d4f53a",
   "metadata": {},
   "source": [
    "1. The 3 quantity has the highest average sales amount.\n",
    "2. The business can encourage customers to buy more by given discounts."
   ]
  },
  {
   "cell_type": "markdown",
   "id": "1298a804",
   "metadata": {},
   "source": [
    "#### Leveraging High-Value Categories\n",
    "- Look at the aggregated `sales_per_unit` values by product_category in `Task 5`. Which category has the highest average sales per unit?\n",
    "- How could the business focus on this category to maximise revenue?"
   ]
  },
  {
   "cell_type": "markdown",
   "id": "acfea57a",
   "metadata": {},
   "source": [
    "1. The books category has the highest average sales per unit.\n",
    "2. The business should focus more on promoting sales of books, by introducing more selection and given discounts"
   ]
  },
  {
   "cell_type": "markdown",
   "id": "34f55a40",
   "metadata": {},
   "source": [
    "#### Integrating Insights: Visual and Non-Visual Analysis\n",
    "- How did visual analysis reinforce or clarify trends observed in the non-visual analysis?"
   ]
  },
  {
   "cell_type": "markdown",
   "id": "0bf1e991",
   "metadata": {},
   "source": [
    "The visual analysis made it easier to depict the highs and lows of the charts and data."
   ]
  }
 ],
 "metadata": {
  "kernelspec": {
   "display_name": ".venv",
   "language": "python",
   "name": "python3"
  },
  "language_info": {
   "codemirror_mode": {
    "name": "ipython",
    "version": 3
   },
   "file_extension": ".py",
   "mimetype": "text/x-python",
   "name": "python",
   "nbconvert_exporter": "python",
   "pygments_lexer": "ipython3",
   "version": "3.13.1"
  }
 },
 "nbformat": 4,
 "nbformat_minor": 5
}
